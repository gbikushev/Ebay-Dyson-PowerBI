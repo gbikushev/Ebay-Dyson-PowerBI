{
 "cells": [
  {
   "cell_type": "code",
   "execution_count": 3,
   "metadata": {},
   "outputs": [],
   "source": [
    "import psycopg2\n",
    "from dotenv import load_dotenv\n",
    "import os\n",
    "import pandas as pd\n",
    "\n",
    "load_dotenv()\n",
    "\n",
    "dbname = os.getenv(\"DB_NAME\")\n",
    "user = os.getenv(\"DB_USER\")\n",
    "password = os.getenv(\"DB_PASSWORD\")\n",
    "host = os.getenv(\"DB_HOST\")\n",
    "port = os.getenv(\"DB_PORT\")"
   ]
  },
  {
   "cell_type": "code",
   "execution_count": 4,
   "metadata": {},
   "outputs": [
    {
     "name": "stdout",
     "output_type": "stream",
     "text": [
      "Connected to the database successfully.\n",
      "Data inserted into table 'categories' successfully.\n",
      "Data inserted into table 'conditions' successfully.\n",
      "Data inserted into table 'countries' successfully.\n",
      "Data inserted into table 'items' successfully.\n",
      "Data inserted into table 'prices' successfully.\n",
      "Data inserted into table 'reviews' successfully.\n",
      "Data inserted into table 'sellers' successfully.\n",
      "Data inserted into table 'seller_item_performance' successfully.\n",
      "Data insertion completed.\n"
     ]
    }
   ],
   "source": [
    "# Connect to PostgreSQL\n",
    "try:\n",
    "    conn = psycopg2.connect(\n",
    "        dbname=dbname, \n",
    "        user=user, \n",
    "        password=password,\n",
    "        host=host,\n",
    "        port=port\n",
    "    )\n",
    "    conn.autocommit = True\n",
    "    cursor = conn.cursor()\n",
    "    print(\"Connected to the database successfully.\")\n",
    "\n",
    "except Exception as e:\n",
    "    print(\"Error connecting to database:\", e)\n",
    "\n",
    "\n",
    "csv_folder_path = os.path.join(os.getcwd(), 'tables')\n",
    "\n",
    "# Helper function to insert data\n",
    "def insert_data(table_name, csv_file):\n",
    "    try:\n",
    "        df = pd.read_csv(os.path.join(csv_folder_path, csv_file))\n",
    "        \n",
    "        # Insert data row by row\n",
    "        for i, row in df.iterrows():\n",
    "            cols = ','.join(row.index)\n",
    "            vals = ','.join(['%s'] * len(row))\n",
    "            insert_sql = f\"INSERT INTO {table_name} ({cols}) VALUES ({vals}) ON CONFLICT DO NOTHING\"\n",
    "            cursor.execute(insert_sql, tuple(row))\n",
    "        \n",
    "        print(f\"Data inserted into table '{table_name}' successfully.\")\n",
    "    except Exception as e:\n",
    "        print(f\"Error inserting data into table '{table_name}':\", e)\n",
    "\n",
    "# Dictionary of tables and their corresponding CSV filenames\n",
    "tables_and_files = {\n",
    "    'categories': 'categories_df.csv',\n",
    "    'conditions': 'conditions_df.csv',\n",
    "    'countries': 'countries_df.csv',\n",
    "    'items': 'items_df.csv',\n",
    "    'prices': 'prices_df.csv',\n",
    "    'reviews': 'reviews_df.csv',\n",
    "    'sellers': 'sellers_df.csv',\n",
    "    'seller_item_performance': 'seller_item_performance_df.csv'\n",
    "}\n",
    "\n",
    "# Insert data into each table\n",
    "for table_name, csv_file in tables_and_files.items():\n",
    "    insert_data(table_name, csv_file)\n",
    "\n",
    "# Commit changes and close connection\n",
    "conn.commit()\n",
    "cursor.close()\n",
    "conn.close()\n",
    "print(\"Data insertion completed.\")"
   ]
  },
  {
   "cell_type": "code",
   "execution_count": null,
   "metadata": {},
   "outputs": [],
   "source": []
  }
 ],
 "metadata": {
  "kernelspec": {
   "display_name": ".venv",
   "language": "python",
   "name": "python3"
  },
  "language_info": {
   "codemirror_mode": {
    "name": "ipython",
    "version": 3
   },
   "file_extension": ".py",
   "mimetype": "text/x-python",
   "name": "python",
   "nbconvert_exporter": "python",
   "pygments_lexer": "ipython3",
   "version": "3.11.5"
  }
 },
 "nbformat": 4,
 "nbformat_minor": 2
}
